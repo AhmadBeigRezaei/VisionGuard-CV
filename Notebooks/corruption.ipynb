{
 "cells": [
  {
   "cell_type": "markdown",
   "id": "67327679",
   "metadata": {},
   "source": [
    "# Corruption"
   ]
  },
  {
   "cell_type": "markdown",
   "id": "3a380135",
   "metadata": {},
   "source": [
    "## Overview\n",
    "This notebook is designed to apply various types of image corruptions to a dataset of images, primarily for the purpose of testing and enhancing the robustness of image processing algorithms. It utilizes custom corruption functions to modify images by introducing different levels of distortions such as blurring, noise, and other effects.\n",
    "\n",
    "## Key Functions\n",
    "- `corrupt(x, severity, corruption_name, corruption_number)`: Main function to apply specified corruptions to images. It takes an image `x`, a `severity` level, and either a `corruption_name` or `corruption_number` to select the type of corruption. It returns the corrupted image.\n",
    "- `gaussian_blur(x, severity)`: A specific corruption function that applies Gaussian blur to an image. The blur intensity is controlled by the `severity` parameter.\n",
    "\n",
    "## Corruption Types\n",
    "The notebook supports several types of image corruptions, including:\n",
    "- **Gaussian Blur**: Smoothens the image by using a Gaussian function, creating the effect of viewing the image through a translucent screen.\n",
    "- **(Additional types can be listed as they are implemented or planned)**\n",
    "\n",
    "## Usage\n",
    "Users can specify the severity of corruption and the type of corruption to apply to each image. The notebook processes images stored in a specified directory structure, applies the requested corruption, and saves the corrupted images in a new directory structure for further analysis or use.\n",
    "\n",
    "## Objective\n",
    "The goal of this notebook is to provide a tool for researchers and developers to generate corrupted image datasets that can be used to evaluate and improve the performance of computer vision models under various noise conditions.\n"
   ]
  },
  {
   "cell_type": "markdown",
   "id": "d0899c49",
   "metadata": {},
   "source": [
    "## Imports"
   ]
  },
  {
   "cell_type": "code",
   "execution_count": 98,
   "id": "4fb0f4f9",
   "metadata": {},
   "outputs": [],
   "source": [
    "import sys\n",
    "import os\n",
    "#from imagenet_c import corrupt\n",
    "import numpy as np\n",
    "from PIL import Image\n",
    "import os\n",
    "import matplotlib.pyplot as plt\n",
    "from skimage.filters import gaussian\n",
    "import cv2"
   ]
  },
  {
   "cell_type": "code",
   "execution_count": 86,
   "id": "3b551b2e",
   "metadata": {},
   "outputs": [],
   "source": [
    "def gaussian_blur(x, severity=1):\n",
    "    c = [1, 2, 3, 4, 6][severity - 1]\n",
    "\n",
    "    # Update the gaussian function call\n",
    "    x = gaussian(np.array(x) / 255., sigma=c, channel_axis=-1)\n",
    "    return np.clip(x, 0, 1) * 255"
   ]
  },
  {
   "cell_type": "code",
   "execution_count": 93,
   "id": "93064800",
   "metadata": {},
   "outputs": [],
   "source": [
    "def apply_colormap(x, severity=1):\n",
    "    # Lista de colourmaps disponibles en OpenCV\n",
    "    colormaps = [\n",
    "        cv2.COLORMAP_AUTUMN,\n",
    "        #cv2.COLORMAP_BONE,\n",
    "        #cv2.COLORMAP_JET,\n",
    "        #cv2.COLORMAP_WINTER,\n",
    "        #cv2.COLORMAP_RAINBOW\n",
    "    ]\n",
    "\n",
    "    # Asegurar que el índice de severity es válido\n",
    "    colormap_index = colormaps[severity - 1] if severity - 1 < len(colormaps) else colormaps[0]\n",
    "\n",
    "    # Aplicar el colormap seleccionado\n",
    "    colored_image = cv2.applyColorMap(np.uint8(x), colormap_index)\n",
    "\n",
    "    return colored_image"
   ]
  },
  {
   "cell_type": "code",
   "execution_count": 94,
   "id": "b17b9884",
   "metadata": {},
   "outputs": [],
   "source": [
    "def corrupt(x, severity=1, corruption_name=None, corruption_number=-1):\n",
    "    # Define a dictionary of corruption functions\n",
    "    corruption_dict = {\n",
    "        'gaussian_blur': gaussian_blur,  \n",
    "        'apply_colormap': apply_colormap,\n",
    "    }\n",
    "\n",
    "    if corruption_name:\n",
    "        if corruption_name in corruption_dict:\n",
    "            x_corrupted = corruption_dict[corruption_name](Image.fromarray(x.astype('uint8')), severity)\n",
    "        else:\n",
    "            raise ValueError(f\"Corruption name {corruption_name} is not supported.\")\n",
    "    elif corruption_number != -1:\n",
    "        # Define the tuple if using indices to reference corruptions\n",
    "        corruption_tuple = (\n",
    "            gaussian_blur,  # Ensure the tuple is in sync with the corruption names\n",
    "            # shot_noise,\n",
    "            # impulse_noise,\n",
    "            # ... other corruptions ...\n",
    "        )\n",
    "        x_corrupted = corruption_tuple[corruption_number](Image.fromarray(x.astype('uint8')), severity)\n",
    "    else:\n",
    "        raise ValueError(\"Either corruption_name or corruption_number must be passed\")\n",
    "\n",
    "    return np.uint8(x_corrupted)"
   ]
  },
  {
   "cell_type": "code",
   "execution_count": 95,
   "id": "6d4591e7",
   "metadata": {},
   "outputs": [],
   "source": [
    "corruptions=['apply_colormap']"
   ]
  },
  {
   "cell_type": "code",
   "execution_count": 96,
   "id": "ab226be3",
   "metadata": {},
   "outputs": [],
   "source": [
    "# Create directories for corrupted images\n",
    "for severity in range(1, 6):\n",
    "    for corruption in corruptions:\n",
    "        new_dir = f\"./Vision+/test_s_{severity}_corr={corruption}\"\n",
    "        if not os.path.exists(new_dir):\n",
    "            os.makedirs(new_dir)\n",
    "        for emotion in os.listdir(source_path):\n",
    "            if not os.path.exists(os.path.join(new_dir, emotion)):\n",
    "                os.makedirs(os.path.join(new_dir, emotion))"
   ]
  },
  {
   "cell_type": "code",
   "execution_count": 99,
   "id": "ebdbc8a5",
   "metadata": {},
   "outputs": [
    {
     "ename": "KeyboardInterrupt",
     "evalue": "",
     "output_type": "error",
     "traceback": [
      "\u001b[1;31m---------------------------------------------------------------------------\u001b[0m",
      "\u001b[1;31mKeyboardInterrupt\u001b[0m                         Traceback (most recent call last)",
      "Cell \u001b[1;32mIn[99], line 15\u001b[0m\n\u001b[0;32m     13\u001b[0m                 \u001b[38;5;66;03m# Save the corrupted image\u001b[39;00m\n\u001b[0;32m     14\u001b[0m                 corrupted_img_pil \u001b[38;5;241m=\u001b[39m Image\u001b[38;5;241m.\u001b[39mfromarray(corrupted_img)\n\u001b[1;32m---> 15\u001b[0m                 corrupted_img_pil\u001b[38;5;241m.\u001b[39msave(os\u001b[38;5;241m.\u001b[39mpath\u001b[38;5;241m.\u001b[39mjoin(new_dir, emotion, img_name))\n\u001b[0;32m     17\u001b[0m \u001b[38;5;28mprint\u001b[39m(\u001b[38;5;124m\"\u001b[39m\u001b[38;5;124mProcess completed.\u001b[39m\u001b[38;5;124m\"\u001b[39m)\n",
      "File \u001b[1;32m~\\anaconda3\\Lib\\site-packages\\PIL\\Image.py:2439\u001b[0m, in \u001b[0;36mImage.save\u001b[1;34m(self, fp, format, **params)\u001b[0m\n\u001b[0;32m   2436\u001b[0m         fp \u001b[38;5;241m=\u001b[39m builtins\u001b[38;5;241m.\u001b[39mopen(filename, \u001b[38;5;124m\"\u001b[39m\u001b[38;5;124mw+b\u001b[39m\u001b[38;5;124m\"\u001b[39m)\n\u001b[0;32m   2438\u001b[0m \u001b[38;5;28;01mtry\u001b[39;00m:\n\u001b[1;32m-> 2439\u001b[0m     save_handler(\u001b[38;5;28mself\u001b[39m, fp, filename)\n\u001b[0;32m   2440\u001b[0m \u001b[38;5;28;01mexcept\u001b[39;00m \u001b[38;5;167;01mException\u001b[39;00m:\n\u001b[0;32m   2441\u001b[0m     \u001b[38;5;28;01mif\u001b[39;00m open_fp:\n",
      "File \u001b[1;32m~\\anaconda3\\Lib\\site-packages\\PIL\\JpegImagePlugin.py:824\u001b[0m, in \u001b[0;36m_save\u001b[1;34m(im, fp, filename)\u001b[0m\n\u001b[0;32m    819\u001b[0m \u001b[38;5;28;01melse\u001b[39;00m:\n\u001b[0;32m    820\u001b[0m     \u001b[38;5;66;03m# The EXIF info needs to be written as one block, + APP1, + one spare byte.\u001b[39;00m\n\u001b[0;32m    821\u001b[0m     \u001b[38;5;66;03m# Ensure that our buffer is big enough. Same with the icc_profile block.\u001b[39;00m\n\u001b[0;32m    822\u001b[0m     bufsize \u001b[38;5;241m=\u001b[39m \u001b[38;5;28mmax\u001b[39m(bufsize, \u001b[38;5;28mlen\u001b[39m(exif) \u001b[38;5;241m+\u001b[39m \u001b[38;5;241m5\u001b[39m, \u001b[38;5;28mlen\u001b[39m(extra) \u001b[38;5;241m+\u001b[39m \u001b[38;5;241m1\u001b[39m)\n\u001b[1;32m--> 824\u001b[0m ImageFile\u001b[38;5;241m.\u001b[39m_save(im, fp, [(\u001b[38;5;124m\"\u001b[39m\u001b[38;5;124mjpeg\u001b[39m\u001b[38;5;124m\"\u001b[39m, (\u001b[38;5;241m0\u001b[39m, \u001b[38;5;241m0\u001b[39m) \u001b[38;5;241m+\u001b[39m im\u001b[38;5;241m.\u001b[39msize, \u001b[38;5;241m0\u001b[39m, rawmode)], bufsize)\n",
      "File \u001b[1;32m~\\anaconda3\\Lib\\site-packages\\PIL\\ImageFile.py:538\u001b[0m, in \u001b[0;36m_save\u001b[1;34m(im, fp, tile, bufsize)\u001b[0m\n\u001b[0;32m    536\u001b[0m     fh \u001b[38;5;241m=\u001b[39m fp\u001b[38;5;241m.\u001b[39mfileno()\n\u001b[0;32m    537\u001b[0m     fp\u001b[38;5;241m.\u001b[39mflush()\n\u001b[1;32m--> 538\u001b[0m     _encode_tile(im, fp, tile, bufsize, fh)\n\u001b[0;32m    539\u001b[0m \u001b[38;5;28;01mexcept\u001b[39;00m (\u001b[38;5;167;01mAttributeError\u001b[39;00m, io\u001b[38;5;241m.\u001b[39mUnsupportedOperation) \u001b[38;5;28;01mas\u001b[39;00m exc:\n\u001b[0;32m    540\u001b[0m     _encode_tile(im, fp, tile, bufsize, \u001b[38;5;28;01mNone\u001b[39;00m, exc)\n",
      "File \u001b[1;32m~\\anaconda3\\Lib\\site-packages\\PIL\\ImageFile.py:565\u001b[0m, in \u001b[0;36m_encode_tile\u001b[1;34m(im, fp, tile, bufsize, fh, exc)\u001b[0m\n\u001b[0;32m    562\u001b[0m                 \u001b[38;5;28;01mbreak\u001b[39;00m\n\u001b[0;32m    563\u001b[0m     \u001b[38;5;28;01melse\u001b[39;00m:\n\u001b[0;32m    564\u001b[0m         \u001b[38;5;66;03m# slight speedup: compress to real file object\u001b[39;00m\n\u001b[1;32m--> 565\u001b[0m         errcode \u001b[38;5;241m=\u001b[39m encoder\u001b[38;5;241m.\u001b[39mencode_to_file(fh, bufsize)\n\u001b[0;32m    566\u001b[0m \u001b[38;5;28;01mif\u001b[39;00m errcode \u001b[38;5;241m<\u001b[39m \u001b[38;5;241m0\u001b[39m:\n\u001b[0;32m    567\u001b[0m     \u001b[38;5;28;01mraise\u001b[39;00m _get_oserror(errcode, encoder\u001b[38;5;241m=\u001b[39m\u001b[38;5;28;01mTrue\u001b[39;00m) \u001b[38;5;28;01mfrom\u001b[39;00m \u001b[38;5;21;01mexc\u001b[39;00m\n",
      "\u001b[1;31mKeyboardInterrupt\u001b[0m: "
     ]
    }
   ],
   "source": [
    "for severity in range(1, 6):\n",
    "    for corruption in corruptions:\n",
    "        new_dir = f\"./Vision+/test_s_{severity}_corr={corruption}\"\n",
    "        if not os.path.exists(new_dir):\n",
    "            os.makedirs(new_dir)\n",
    "        for emotion in os.listdir(source_path):\n",
    "            emotion_dir = os.path.join(source_path, emotion)\n",
    "            for img_name in os.listdir(emotion_dir):\n",
    "                img_path = os.path.join(emotion_dir, img_name)\n",
    "                img = Image.open(img_path)\n",
    "                img_array = np.array(img)\n",
    "                corrupted_img = corrupt(img_array, severity=severity, corruption_name=corruption)\n",
    "                # Save the corrupted image\n",
    "                corrupted_img_pil = Image.fromarray(corrupted_img)\n",
    "                corrupted_img_pil.save(os.path.join(new_dir, emotion, img_name))\n",
    "\n",
    "print(\"Process completed.\")"
   ]
  },
  {
   "cell_type": "code",
   "execution_count": null,
   "id": "66ea4fd1",
   "metadata": {},
   "outputs": [],
   "source": []
  }
 ],
 "metadata": {
  "kernelspec": {
   "display_name": "Python 3 (ipykernel)",
   "language": "python",
   "name": "python3"
  },
  "language_info": {
   "codemirror_mode": {
    "name": "ipython",
    "version": 3
   },
   "file_extension": ".py",
   "mimetype": "text/x-python",
   "name": "python",
   "nbconvert_exporter": "python",
   "pygments_lexer": "ipython3",
   "version": "3.11.5"
  }
 },
 "nbformat": 4,
 "nbformat_minor": 5
}
